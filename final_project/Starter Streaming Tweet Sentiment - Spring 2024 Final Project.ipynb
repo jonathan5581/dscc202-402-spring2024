{
 "cells": [
  {
   "cell_type": "markdown",
   "metadata": {
    "application/vnd.databricks.v1+cell": {
     "cellMetadata": {
      "byteLimit": 2048000,
      "rowLimit": 10000
     },
     "inputWidgets": {},
     "nuid": "fc749083-2211-485c-943f-640e198b2c70",
     "showTitle": false,
     "title": ""
    }
   },
   "source": [
    "## DSCC202-402 Data Science at Scale Final Project\n",
    "### Tracking Tweet sentiment at scale using a pretrained transformer (classifier)\n",
    "<p>Consider the following illustration of the end to end system that you will be building.  Each student should do their own work.  The project will demonstrate your understanding of Spark Streaming, the medalion data architecture using Delta Lake, Spark Inference at Scale using an MLflow packaged model as well as Exploritory Data Analysis and System Tracking and Monitoring.</p>\n",
    "<br><br>\n",
    "<img src=\"https://data-science-at-scale.s3.amazonaws.com/images/pipeline.drawio.png\">\n",
    "\n",
    "<p>\n",
    "You will be pulling an updated copy of the course GitHub repositiory: <a href=\"https://github.com/lpalum/dscc202-402-spring2024\">The Repo</a>.  If you are unclear on how to pull an updated copy using the GitHub command line, the following <a href=\"https://techwritingmatters.com/how-to-update-your-forked-repository-on-github\">document</a> is helpful.  Be sure to add the professors and TAs as collaborators on your project. \n",
    "\n",
    "- lpalum@gmail.com GitHub ID: lpalum\n",
    "- ajay.anand@rochester.edu GitHub ID: ajayan12\n",
    "- divyamunot1999@gmail.com GitHub ID: divyamunot\n",
    "- ylong6@u.Rochester.edu GitHub ID: NinaLong2077\n",
    "\n",
    "Once you have updates your fork of the repository you should see the following template project that is resident in the final_project directory.\n",
    "</p>\n",
    "\n",
    "<img src=\"https://data-science-at-scale.s3.amazonaws.com/images/notebooks.drawio.png\">\n",
    "\n",
    "<p>\n",
    "You can then pull your project into the Databrick Workspace using the <a href=\"https://www.databricks.training/step-by-step/importing-courseware-from-github/index.html\">Repos</a> feature.\n",
    "Each student is expected to submit the URL of their project on GitHub with their code checked in on the main/master branch.  This illustration highlights the branching scheme that you may use to work on your code in steps and then merge your submission into your master branch before submitting.\n",
    "</p>\n",
    "<img src=\"https://data-science-at-scale.s3.amazonaws.com/images/github.drawio.png\">\n",
    "<p>\n",
    "Work your way through this notebook which will give you the steps required to submit a complete and compliant project.  The following illustration and associated data dictionary specifies the transformations and data that you are to generate for each step in the medallion pipeline.\n",
    "</p>\n",
    "<br><br>\n",
    "<img src=\"https://data-science-at-scale.s3.amazonaws.com/images/dataframes.drawio.png\">\n",
    "\n",
    "#### Bronze Data - raw ingest\n",
    "- date - string in the source json\n",
    "- user - string in the source json\n",
    "- text - tweet string in the source json\n",
    "- sentiment - the given sentiment of the text as determined by an unknown model that is provided in the source json\n",
    "- source_file - the path of the source json file the this row of data was read from\n",
    "- processing_time - a timestamp of when you read this row from the source json\n",
    "\n",
    "#### Silver Data - Bronze Preprocessing\n",
    "- timestamp - convert date string in the bronze data to a timestamp\n",
    "- mention - every @username mentioned in the text string in the bronze data gets a row in this silver data table.\n",
    "- cleaned_text - the bronze text data with the mentions (@username) removed.\n",
    "- sentiment - the given sentiment that was associated with the text in the bronze table.\n",
    "\n",
    "#### Gold Data - Silver Table Inference\n",
    "- timestamp - the timestamp from the silver data table rows\n",
    "- mention - the mention from the silver data table rows\n",
    "- cleaned_text - the cleaned_text from the silver data table rows\n",
    "- sentiment - the given sentiment from the silver data table rows\n",
    "- predicted_score - score out of 100 from the Hugging Face Sentiment Transformer\n",
    "- predicted_sentiment - string representation of the sentiment\n",
    "- sentiment_id - 0 for negative and 1 for postive associated with the given sentiment\n",
    "- predicted_sentiment_id - 0 for negative and 1 for positive assocaited with the Hugging Face Sentiment Transformer\n",
    "\n",
    "#### Application Data - Gold Table Aggregation\n",
    "- min_timestamp - the oldest timestamp on a given mention (@username)\n",
    "- max_timestamp - the newest timestamp on a given mention (@username)\n",
    "- mention - the user (@username) that this row pertains to.\n",
    "- negative - total negative tweets directed at this mention (@username)\n",
    "- neutral - total neutral tweets directed at this mention (@username)\n",
    "- positive - total positive tweets directed at this mention (@username)\n",
    "\n",
    "When you are designing your approach, one of the main decisions that you will need to make is how you are going to orchestrate the streaming data processing in your pipeline.  There are several valid approaches.  First, you may choose to start the bronze_stream and let it complete (read and append all of the source data) before preceeding and starting up the silver_stream.  This approach has latency associated with it but it will allow your code to proceed in a linear fashion and process all the data by the end of your notebook execution.  Another potential approach is to start all the streams and have a \"watch\" method to determine when the pipeline has processed sufficient or all of the source data before stopping and displaying results.  Both of these approaches are valid and have different implications on how you will trigger your steams and how you will gate the execution of your pipeline.  Think through how you want to proceed and ask questions if you need guidance. The following references may be helpful:\n",
    "- [Spark Structured Streaming Programming Guide](https://spark.apache.org/docs/latest/structured-streaming-programming-guide.html)\n",
    "- [Databricks Autoloader - Cloudfiles](https://docs.databricks.com/en/ingestion/auto-loader/index.html)\n",
    "\n",
    "### Be sure that your project runs end to end when *Run all* is executued on this notebook! (15 Points out of 60)"
   ]
  },
  {
   "cell_type": "code",
   "execution_count": 0,
   "metadata": {
    "application/vnd.databricks.v1+cell": {
     "cellMetadata": {
      "byteLimit": 2048000,
      "rowLimit": 10000
     },
     "inputWidgets": {},
     "nuid": "068f25d0-1387-4342-89cf-ce82a8d614ce",
     "showTitle": true,
     "title": "Pull in the Includes & Utiltites"
    }
   },
   "outputs": [],
   "source": [
    "%run ./includes/includes"
   ]
  },
  {
   "cell_type": "code",
   "execution_count": 0,
   "metadata": {
    "application/vnd.databricks.v1+cell": {
     "cellMetadata": {
      "byteLimit": 2048000,
      "rowLimit": 10000
     },
     "inputWidgets": {},
     "nuid": "6512bf1b-50e0-4a4b-84a9-e280a6260b56",
     "showTitle": true,
     "title": "Notebook Control Widgets (maybe helpful)"
    }
   },
   "outputs": [],
   "source": [
    "\"\"\"\n",
    "Adding a widget to the notebook to control the clearing of a previous run.\n",
    "or stopping the active streams using routines defined in the utilities notebook\n",
    "\"\"\"\n",
    "dbutils.widgets.removeAll()\n",
    "\n",
    "dbutils.widgets.dropdown(\"clear_previous_run\", \"No\", [\"No\",\"Yes\"])\n",
    "if (getArgument(\"clear_previous_run\") == \"Yes\"):\n",
    "    clear_previous_run()\n",
    "    print(\"Cleared all previous data.\")\n",
    "\n",
    "dbutils.widgets.dropdown(\"stop_streams\", \"No\", [\"No\",\"Yes\"])\n",
    "if (getArgument(\"stop_streams\") == \"Yes\"):\n",
    "    stop_all_streams()\n",
    "    print(\"Stopped all active streams.\")\n",
    "\n",
    "from delta import *\n",
    "dbutils.widgets.dropdown(\"optimize_tables\", \"No\", [\"No\",\"Yes\"])\n",
    "if (getArgument(\"optimize_tables\") == \"Yes\"):\n",
    "    # Suck up those small files that we have been appending.\n",
    "    DeltaTable.forPath(spark, BRONZE_DELTA).optimize().executeCompaction()\n",
    "    # Suck up those small files that we have been appending.\n",
    "    DeltaTable.forPath(spark, SILVER_DELTA).optimize().executeCompaction()\n",
    "    # Suck up those small files that we have been appending.\n",
    "    DeltaTable.forPath(spark, GOLD_DELTA).optimize().executeCompaction()\n",
    "    print(\"Optimized all of the Delta Tables\")"
   ]
  },
  {
   "cell_type": "markdown",
   "metadata": {
    "application/vnd.databricks.v1+cell": {
     "cellMetadata": {
      "byteLimit": 2048000,
      "rowLimit": 10000
     },
     "inputWidgets": {},
     "nuid": "e8ce7c13-7f8f-4e11-b50c-fdaebbcf3f99",
     "showTitle": false,
     "title": ""
    }
   },
   "source": [
    "## 1.0 Import your libraries here...\n",
    "- Are your shuffle partitions consistent with your cluster and your workload?\n",
    "- Do you have the necessary libraries to perform the required operations in the pipeline/application?"
   ]
  },
  {
   "cell_type": "code",
   "execution_count": 0,
   "metadata": {
    "application/vnd.databricks.v1+cell": {
     "cellMetadata": {
      "byteLimit": 2048000,
      "rowLimit": 10000
     },
     "inputWidgets": {},
     "nuid": "67bafbb7-d34e-4e86-b159-b2e062faa1d0",
     "showTitle": false,
     "title": ""
    }
   },
   "outputs": [],
   "source": [
    "from pyspark.sql.functions import current_timestamp, lit, input_file_name\n",
    "from pyspark.sql.types import _parse_datatype_string\n",
    "from pyspark.sql import functions as F\n",
    "from pyspark.sql.functions import col\n",
    "from pyspark.sql.types import ArrayType, StringType\n",
    "from pyspark.mllib.evaluation import MulticlassMetrics\n",
    "from pyspark.sql.functions import regexp_extract, split, explode, col,to_timestamp, regexp_replace\n",
    "from pyspark.sql.types import ArrayType, StringType\n",
    "from pyspark.sql.types import StructType, StructField, StringType, TimestampType\n",
    "from pyspark.sql.functions import isnan, when, count, isnull\n",
    "import matplotlib.pyplot as plt\n",
    "import pyspark.pandas as ps\n",
    "import mlflow.pyfunc\n",
    "from pyspark.sql.functions import udf\n",
    "import seaborn as sns\n",
    "from transformers import pipeline\n",
    "from sklearn.metrics import confusion_matrix\n",
    "from delta import DeltaTable\n",
    "spark = SparkSession.builder. appName(\"MyApp\").config(\"spark.sql.shuffle.partitions\", 12).getOrCreate()"
   ]
  },
  {
   "cell_type": "markdown",
   "metadata": {
    "application/vnd.databricks.v1+cell": {
     "cellMetadata": {
      "byteLimit": 2048000,
      "rowLimit": 10000
     },
     "inputWidgets": {},
     "nuid": "2b7624b4-0aa5-46b7-9767-52f462b2c574",
     "showTitle": false,
     "title": ""
    }
   },
   "source": [
    "## 2.0 Use the utility functions to ...\n",
    "- Read the source file directory listing\n",
    "- Count the source files (how many are there?)\n",
    "- print the contents of one of the files"
   ]
  },
  {
   "cell_type": "code",
   "execution_count": 0,
   "metadata": {
    "application/vnd.databricks.v1+cell": {
     "cellMetadata": {
      "byteLimit": 2048000,
      "rowLimit": 10000
     },
     "inputWidgets": {},
     "nuid": "a59749d5-e45d-460f-9be1-33652cda2ea5",
     "showTitle": false,
     "title": ""
    }
   },
   "outputs": [],
   "source": [
    "#Read, Count, and Print contents of file\n",
    "source_df = get_source_listing_df()\n",
    "print(source_df)\n",
    "print(len(source_df))\n",
    "show_s3_file_contents(\"voc_volume/1000.json\")"
   ]
  },
  {
   "cell_type": "markdown",
   "metadata": {
    "application/vnd.databricks.v1+cell": {
     "cellMetadata": {
      "byteLimit": 2048000,
      "rowLimit": 10000
     },
     "inputWidgets": {},
     "nuid": "1676aed7-527f-4ea7-9d3b-52544e8c1e37",
     "showTitle": false,
     "title": ""
    }
   },
   "source": [
    "## 3.0 Transform the Raw Data to Bronze Data using a stream\n",
    "- define the schema for the raw data\n",
    "- setup a read stream using cloudfiles and the source data format\n",
    "- setup a write stream using cloudfiles to append to the bronze delta table\n",
    "- enforce schema\n",
    "- allow a new schema to be merged into the bronze delta table\n",
    "- Use the defined BRONZE_CHECKPOINT and BRONZE_DELTA paths defines in the includes\n",
    "- name your raw to bronze stream as bronze_stream\n",
    "- transform the raw data to the bronze data using the data definition at the top of the notebook"
   ]
  },
  {
   "cell_type": "code",
   "execution_count": 0,
   "metadata": {
    "application/vnd.databricks.v1+cell": {
     "cellMetadata": {
      "byteLimit": 2048000,
      "rowLimit": 10000
     },
     "inputWidgets": {},
     "nuid": "c4e37574-9885-4908-bf97-609d140a8818",
     "showTitle": false,
     "title": ""
    }
   },
   "outputs": [],
   "source": [
    "#Define Schema and Readstream \n",
    "raw_schema = StructType([\n",
    "    StructField(\"date\", StringType(), True),\n",
    "    StructField(\"user\", StringType(), True),\n",
    "    StructField(\"text\", StringType(), True),\n",
    "    StructField(\"sentiment\", StringType(), True)\n",
    "])\n",
    "\n",
    "raw_tweets_df = (\n",
    "    spark.readStream.format(\"cloudfiles\").schema(raw_schema).option('cloudfiles.format', 'json').load(TWEET_SOURCE_PATH)\n",
    ")"
   ]
  },
  {
   "cell_type": "code",
   "execution_count": 0,
   "metadata": {
    "application/vnd.databricks.v1+cell": {
     "cellMetadata": {
      "byteLimit": 2048000,
      "rowLimit": 10000
     },
     "inputWidgets": {},
     "nuid": "526ad312-0540-4cd7-9c90-bf0e1a209f71",
     "showTitle": false,
     "title": ""
    }
   },
   "outputs": [],
   "source": [
    "#Check Schema \n",
    "\n",
    "assert raw_tweets_df.schema == raw_schema, \"File not present in Raw Path\"\n",
    "print(\"Assertion passed.\")"
   ]
  },
  {
   "cell_type": "code",
   "execution_count": 0,
   "metadata": {
    "application/vnd.databricks.v1+cell": {
     "cellMetadata": {
      "byteLimit": 2048000,
      "rowLimit": 10000
     },
     "inputWidgets": {},
     "nuid": "f1a41b68-578b-4c26-92ef-57c0f995851e",
     "showTitle": false,
     "title": ""
    }
   },
   "outputs": [],
   "source": [
    "#Merging new Schema to Table\n",
    "additional_schema = [\n",
    "    StructField(\"source_file\", StringType(), False), StructField(\"processing_time\", TimestampType(), False)\n",
    "]\n",
    "bronze_schema = StructType(list(raw_schema) + additional_schema)"
   ]
  },
  {
   "cell_type": "code",
   "execution_count": 0,
   "metadata": {
    "application/vnd.databricks.v1+cell": {
     "cellMetadata": {
      "byteLimit": 2048000,
      "rowLimit": 10000
     },
     "inputWidgets": {},
     "nuid": "93184881-7ce7-4f15-9706-b70815011414",
     "showTitle": false,
     "title": ""
    }
   },
   "outputs": [],
   "source": [
    "#Transform Raw data to Bronze data according to data dictionary\n",
    "raw_tweets_df = raw_tweets_df.select(\n",
    "    \"date\", \"user\",\"text\",\"sentiment\", \n",
    "    input_file_name().alias(\"source_file\"),\n",
    "    current_timestamp().alias(\"processing_time\"),\n",
    ")"
   ]
  },
  {
   "cell_type": "code",
   "execution_count": 0,
   "metadata": {
    "application/vnd.databricks.v1+cell": {
     "cellMetadata": {
      "byteLimit": 2048000,
      "rowLimit": 10000
     },
     "inputWidgets": {},
     "nuid": "617bfc05-65b0-4cb9-a03b-28cc28377055",
     "showTitle": false,
     "title": ""
    }
   },
   "outputs": [],
   "source": [
    "#Check Schema\n",
    "assert raw_tweets_df.schema == bronze_schema, \"File not present in Raw Path\"\n",
    "print(\"Assertion passed.\")"
   ]
  },
  {
   "cell_type": "code",
   "execution_count": 0,
   "metadata": {
    "application/vnd.databricks.v1+cell": {
     "cellMetadata": {
      "byteLimit": 2048000,
      "rowLimit": 10000
     },
     "inputWidgets": {},
     "nuid": "a192a24e-75a8-4462-ac95-0475de058126",
     "showTitle": false,
     "title": ""
    }
   },
   "outputs": [],
   "source": [
    "#Write Stream, using the Bronze Checkpoint and Bronze Delta, named bronze_stream, takes about 45 minutes to run\n",
    "query_bronze = raw_tweets_df.writeStream.format(\"delta\").outputMode(\"append\").option(\"checkpointLocation\", BRONZE_CHECKPOINT).partitionBy(\"processing_time\").queryName(\"bronze_stream\").start(BRONZE_DELTA)"
   ]
  },
  {
   "cell_type": "code",
   "execution_count": 0,
   "metadata": {
    "application/vnd.databricks.v1+cell": {
     "cellMetadata": {
      "byteLimit": 2048000,
      "rowLimit": 10000
     },
     "inputWidgets": {},
     "nuid": "95e189b6-eebc-4d1a-baee-7a39341058db",
     "showTitle": false,
     "title": ""
    }
   },
   "outputs": [],
   "source": [
    "#Stop Stream when input and processed rows per second is 0\n",
    "stream_started = False\n",
    "last_progress = False\n",
    "watch_query = False\n",
    "while True:\n",
    "    time.sleep(30)\n",
    "    if not stream_started:\n",
    "        stream_started = wait_stream_start(spark, \"bronze_stream\")\n",
    "    if stream_started and not last_progress:\n",
    "        if(query_bronze.lastProgress is None):\n",
    "            last_progress = False\n",
    "        if(query_bronze.lastProgress is not None):\n",
    "            last_progress = True\n",
    "\n",
    "    if stream_started and last_progress and not watch_query:\n",
    "        watch_query = watch(query_bronze)\n",
    "\n",
    "    if stream_started and last_progress and watch_query:\n",
    "        query_bronze.stop()\n",
    "        query_bronze.awaitTermination() \n",
    "        break  \n",
    "    time.sleep(30)\n"
   ]
  },
  {
   "cell_type": "code",
   "execution_count": 0,
   "metadata": {
    "application/vnd.databricks.v1+cell": {
     "cellMetadata": {
      "byteLimit": 2048000,
      "rowLimit": 10000
     },
     "inputWidgets": {},
     "nuid": "daa53389-e5e3-43d5-8d13-b30e0811b398",
     "showTitle": false,
     "title": ""
    }
   },
   "outputs": [],
   "source": [
    "#Loading Delta Table into DF and viewing it\n",
    "bronze_tweets = spark.read.format(\"delta\").load(BRONZE_DELTA)\n",
    "display(bronze_tweets)\n"
   ]
  },
  {
   "cell_type": "markdown",
   "metadata": {
    "application/vnd.databricks.v1+cell": {
     "cellMetadata": {
      "byteLimit": 2048000,
      "rowLimit": 10000
     },
     "inputWidgets": {},
     "nuid": "9bc3e824-d218-43e5-a43b-4c6dbe31950d",
     "showTitle": false,
     "title": ""
    }
   },
   "source": [
    "## 4.0 Bronze Data Exploratory Data Analysis\n",
    "- How many tweets are captured in your Bronze Table?\n",
    "- Are there any columns that contain Nan or Null values?  If so how many and what will you do in your silver transforms to address this?\n",
    "- Count the number of tweets by each unique user handle and sort the data by descending count.\n",
    "- How many tweets have at least one mention (@) how many tweet have no mentions (@)\n",
    "- Plot a bar chart that shows the top 20 tweeters (users)\n"
   ]
  },
  {
   "cell_type": "code",
   "execution_count": 0,
   "metadata": {
    "application/vnd.databricks.v1+cell": {
     "cellMetadata": {
      "byteLimit": 2048000,
      "rowLimit": 10000
     },
     "inputWidgets": {},
     "nuid": "089b1002-2063-4893-9289-84a230e5e17a",
     "showTitle": false,
     "title": ""
    }
   },
   "outputs": [],
   "source": [
    "#Number of Tweets Captured by Bronze Table\n",
    "print(bronze_tweets.count())"
   ]
  },
  {
   "cell_type": "code",
   "execution_count": 0,
   "metadata": {
    "application/vnd.databricks.v1+cell": {
     "cellMetadata": {
      "byteLimit": 2048000,
      "rowLimit": 10000
     },
     "inputWidgets": {},
     "nuid": "6055e1f1-95ff-4eb8-84e7-a49171b9c53e",
     "showTitle": false,
     "title": ""
    }
   },
   "outputs": [],
   "source": [
    "#Columns that contain NAN or Null Values ~ No nan or null values\n",
    "bronze_tweets.select([count(when(isnull(c), c)).alias(c) for c in bronze_tweets.columns]).show()"
   ]
  },
  {
   "cell_type": "code",
   "execution_count": 0,
   "metadata": {
    "application/vnd.databricks.v1+cell": {
     "cellMetadata": {
      "byteLimit": 2048000,
      "rowLimit": 10000
     },
     "inputWidgets": {},
     "nuid": "b069a57d-7a68-4417-942e-4f3a30b1576f",
     "showTitle": false,
     "title": ""
    }
   },
   "outputs": [],
   "source": [
    "#Tweets by unique user handle and sort in descending count \n",
    "counts = bronze_tweets.groupBy(\"user\").count().orderBy(col('count').desc())\n",
    "counts.show()"
   ]
  },
  {
   "cell_type": "code",
   "execution_count": 0,
   "metadata": {
    "application/vnd.databricks.v1+cell": {
     "cellMetadata": {
      "byteLimit": 2048000,
      "rowLimit": 10000
     },
     "inputWidgets": {},
     "nuid": "091ec59c-d968-4acf-b56f-cc9178cd0693",
     "showTitle": false,
     "title": ""
    }
   },
   "outputs": [],
   "source": [
    "\n",
    "bronze_tweets_contains = bronze_tweets.filter(F.col(\"text\").contains(\"@\"))\n",
    "#Tweets that have at least one mention\n",
    "print(bronze_tweets_contains.count())\n",
    "#Tweets that have no mentions\n",
    "print(bronze_tweets.count() - bronze_tweets_contains.count())\n"
   ]
  },
  {
   "cell_type": "code",
   "execution_count": 0,
   "metadata": {
    "application/vnd.databricks.v1+cell": {
     "cellMetadata": {
      "byteLimit": 2048000,
      "rowLimit": 10000
     },
     "inputWidgets": {},
     "nuid": "f625643b-e612-4595-a209-ca2776d78ca2",
     "showTitle": false,
     "title": ""
    }
   },
   "outputs": [],
   "source": [
    "#Bar Plot of top 20 tweets\n",
    "counts = counts.limit(20)\n",
    "counts = ps.DataFrame(counts)\n",
    "counts.plot.bar(x = \"user\", y = \"count\", title = \"Top 20 Tweeters\")"
   ]
  },
  {
   "cell_type": "markdown",
   "metadata": {
    "application/vnd.databricks.v1+cell": {
     "cellMetadata": {
      "byteLimit": 2048000,
      "rowLimit": 10000
     },
     "inputWidgets": {},
     "nuid": "38c290b9-a42a-4551-857b-3f461b8a1be6",
     "showTitle": false,
     "title": ""
    }
   },
   "source": [
    "## 5.0 Transform the Bronze Data to Silver Data using a stream\n",
    "- setup a read stream on your bronze delta table\n",
    "- setup a write stream to append to the silver delta table\n",
    "- Use the defined SILVER_CHECKPOINT and SILVER_DELTA paths in the includes\n",
    "- name your bronze to silver stream as silver_stream\n",
    "- transform the bronze data to the silver data using the data definition at the top of the notebook"
   ]
  },
  {
   "cell_type": "code",
   "execution_count": 0,
   "metadata": {
    "application/vnd.databricks.v1+cell": {
     "cellMetadata": {
      "byteLimit": 2048000,
      "rowLimit": 10000
     },
     "inputWidgets": {},
     "nuid": "65b029cb-ba45-4625-a9c1-d0d410a4962b",
     "showTitle": false,
     "title": ""
    }
   },
   "outputs": [],
   "source": [
    "#Setup Readstream on Bronze Table\n",
    "bronze_df = spark.readStream.format(\"delta\").option(\"basePath\", BRONZE_DELTA).load(BRONZE_DELTA)"
   ]
  },
  {
   "cell_type": "code",
   "execution_count": 0,
   "metadata": {
    "application/vnd.databricks.v1+cell": {
     "cellMetadata": {
      "byteLimit": 2048000,
      "rowLimit": 10000
     },
     "inputWidgets": {},
     "nuid": "8197666e-c5b9-47be-9007-abaa6c42d5f1",
     "showTitle": false,
     "title": ""
    }
   },
   "outputs": [],
   "source": [
    "#Transform Bronze Data to Silver Data \n",
    "silver_schema = \"timestamp TIMESTAMP, mention STRING, cleaned_text STRING, Sentiment STRING\"\n",
    "spark.conf.set(\"spark.sql.legacy.timeParserPolicy\",\"LEGACY\")\n",
    "filtered_bronze_df = bronze_df.filter(bronze_df[\"text\"].like(\"%@%\")) #Filter Dataframe to only get tweets with mentions\n",
    "filtered_bronze_df = filtered_bronze_df.withColumn(\"mid\", F.split('text',\" \")) #Split each word in text \n",
    "\n",
    "def filter_array(arr): #Filter so that only words with @ are left\n",
    "    return [x for x in arr if \"@\" in x]\n",
    "\n",
    "filter_array_udf = udf(filter_array, ArrayType(StringType())) \n",
    "filtered_bronze_df = filtered_bronze_df.withColumn(\"mention\", filter_array_udf(col(\"mid\"))) \n",
    "silver_tweets = filtered_bronze_df.select(to_timestamp('date', format='EEE MMM dd HH:mm:ss zzz yyyy').alias(\"timestamp\"), \"mention\", regexp_replace(\"text\", r'@\\w+', \"\").alias(\"cleaned_text\"), \"sentiment\")\n",
    "silver_tweets = silver_tweets.withColumn(\"mention\", F.explode(\"mention\")) #explode so that each mention gets its own row\n",
    "silver_tweets = silver_tweets.where(silver_tweets.mention != '@') #delete rows where there is just @ and no mention"
   ]
  },
  {
   "cell_type": "code",
   "execution_count": 0,
   "metadata": {
    "application/vnd.databricks.v1+cell": {
     "cellMetadata": {
      "byteLimit": 2048000,
      "rowLimit": 10000
     },
     "inputWidgets": {},
     "nuid": "0184054a-e2b0-4f9f-9100-b4d84aa1e25a",
     "showTitle": false,
     "title": ""
    }
   },
   "outputs": [],
   "source": [
    "#Set up WriteStream, using Silver Checkpoint and Silver Delta\n",
    "query_silver = silver_tweets.writeStream.format(\"delta\").outputMode(\"append\").option(\"checkpointLocation\", SILVER_CHECKPOINT).queryName(\"silver_stream\").start(SILVER_DELTA)"
   ]
  },
  {
   "cell_type": "code",
   "execution_count": 0,
   "metadata": {
    "application/vnd.databricks.v1+cell": {
     "cellMetadata": {
      "byteLimit": 2048000,
      "rowLimit": 10000
     },
     "inputWidgets": {},
     "nuid": "7a762f87-9a8c-401f-81f9-95ab318425c1",
     "showTitle": false,
     "title": ""
    }
   },
   "outputs": [],
   "source": [
    "#Logic to Stop Stream when complete\n",
    "stream_started = False\n",
    "last_progress = False\n",
    "query_triggered = False\n",
    "while True:\n",
    "    time.sleep(30)\n",
    "    if not stream_started:\n",
    "        stream_started = wait_stream_start(spark, \"silver_stream\")\n",
    "    if stream_started and not last_progress:\n",
    "        if(query_silver.lastProgress is None):\n",
    "            last_progress = False\n",
    "        if(query_silver.lastProgress is not None):\n",
    "            last_progress = True\n",
    "    if stream_started and last_progress and not query_triggered:\n",
    "        query_triggered = watch(query_silver)\n",
    "    if stream_started and last_progress and query_triggered:\n",
    "        query_silver.stop()\n",
    "        query_silver.awaitTermination()  \n",
    "        break \n",
    "    time.sleep(30)\n"
   ]
  },
  {
   "cell_type": "code",
   "execution_count": 0,
   "metadata": {
    "application/vnd.databricks.v1+cell": {
     "cellMetadata": {
      "byteLimit": 2048000,
      "rowLimit": 10000
     },
     "inputWidgets": {},
     "nuid": "d6da7c31-d86c-4a36-81dd-1e18f8f14d99",
     "showTitle": false,
     "title": ""
    }
   },
   "outputs": [],
   "source": [
    "#Load table and display to check \n",
    "silver_df = spark.read.format('delta').load(SILVER_DELTA)\n",
    "display(silver_df)"
   ]
  },
  {
   "cell_type": "markdown",
   "metadata": {
    "application/vnd.databricks.v1+cell": {
     "cellMetadata": {
      "byteLimit": 2048000,
      "rowLimit": 10000
     },
     "inputWidgets": {},
     "nuid": "9ee38aba-e340-4766-8339-71ef2ecfde3a",
     "showTitle": false,
     "title": ""
    }
   },
   "source": [
    "## 6.0 Transform the Silver Data to Gold Data using a stream\n",
    "- setup a read stream on your silver delta table\n",
    "- setup a write stream to append to the gold delta table\n",
    "- Use the defined GOLD_CHECKPOINT and GOLD_DELTA paths defines in the includes\n",
    "- name your silver to gold stream as gold_stream\n",
    "- transform the silver data to the gold data using the data definition at the top of the notebook\n",
    "- Load the pretrained transformer sentiment classifier from the MODEL_NAME at the production level from the MLflow registry\n",
    "- Use a spark UDF to parallelize the inference across your silver data"
   ]
  },
  {
   "cell_type": "code",
   "execution_count": 0,
   "metadata": {
    "application/vnd.databricks.v1+cell": {
     "cellMetadata": {
      "byteLimit": 2048000,
      "rowLimit": 10000
     },
     "inputWidgets": {},
     "nuid": "567c8f3c-75de-4dab-a39c-16bef7e3c5ad",
     "showTitle": false,
     "title": ""
    }
   },
   "outputs": [],
   "source": [
    "#Set up Read Stream from Silver Table\n",
    "silver_table= spark.readStream.format(\"delta\").option(\"basePath\", SILVER_DELTA).load(SILVER_DELTA)"
   ]
  },
  {
   "cell_type": "code",
   "execution_count": 0,
   "metadata": {
    "application/vnd.databricks.v1+cell": {
     "cellMetadata": {
      "byteLimit": 2048000,
      "rowLimit": 10000
     },
     "inputWidgets": {},
     "nuid": "63c47615-3462-4355-9318-3596d816960b",
     "showTitle": false,
     "title": ""
    }
   },
   "outputs": [],
   "source": [
    "#Load Pretrained Classifier from MLFlowRegistry \n",
    "analyze_sentiment_udf = mlflow.pyfunc.spark_udf(spark, \"models:/\" + MODEL_NAME + \"/1\")\n",
    "silver_table = silver_table.withColumn(\"mid\", analyze_sentiment_udf(col(\"cleaned_text\")))\n",
    "\n"
   ]
  },
  {
   "cell_type": "code",
   "execution_count": 0,
   "metadata": {
    "application/vnd.databricks.v1+cell": {
     "cellMetadata": {
      "byteLimit": 2048000,
      "rowLimit": 10000
     },
     "inputWidgets": {},
     "nuid": "9f464ebd-75ed-42f7-a9da-2952e039b58e",
     "showTitle": false,
     "title": ""
    }
   },
   "outputs": [],
   "source": [
    "#Separating results from Model into Predicted Score and Predicted Sentiment\n",
    "from pyspark.sql.functions import split\n",
    "silver_table = silver_table.select('timestamp', 'mention', 'cleaned_text', 'sentiment',\n",
    "                silver_table[\"mid\"].score.alias('predicted_score'), \n",
    "                silver_table[\"mid\"].label.alias('predicted_sentiment')) \n"
   ]
  },
  {
   "cell_type": "code",
   "execution_count": 0,
   "metadata": {
    "application/vnd.databricks.v1+cell": {
     "cellMetadata": {
      "byteLimit": 2048000,
      "rowLimit": 10000
     },
     "inputWidgets": {},
     "nuid": "e59ef8d3-d426-4aea-976f-dededc77b862",
     "showTitle": false,
     "title": ""
    }
   },
   "outputs": [],
   "source": [
    "#Converting Sentiment to sentiment_id\n",
    "silver_table = silver_table.withColumn('sentiment_id', F.when(F.col(\"sentiment\")== \"positive\", 1).otherwise(F.when(F.col(\"sentiment\")== \"negative\", 0)))\n",
    "\n",
    "#Setting the Neutral tweets into Negative because original sentiment_id is just positive or negative\n",
    "silver_table = silver_table.withColumn('predicted_sentiment', regexp_replace('predicted_sentiment', 'NEU', 'NEG'))\n",
    "\n",
    "#Convert Predicted Sentiment into Sentiment ID, and Also converting Predicted Score to scale from 0 to 100, per the data dictionary\n",
    "silver_table = silver_table.withColumn('predicted_sentiment_id', F.when(F.col(\"predicted_sentiment\")== \"POS\", 1).otherwise(F.when(F.col(\"predicted_sentiment\")== \"NEG\", 0))).withColumn(\"predicted_score\", (col(\"predicted_score\").cast(\"double\") * 100))\n",
    "\n"
   ]
  },
  {
   "cell_type": "code",
   "execution_count": 0,
   "metadata": {
    "application/vnd.databricks.v1+cell": {
     "cellMetadata": {
      "byteLimit": 2048000,
      "rowLimit": 10000
     },
     "inputWidgets": {},
     "nuid": "d4471f22-f964-4d1e-bba0-71592a81c957",
     "showTitle": false,
     "title": ""
    }
   },
   "outputs": [],
   "source": [
    " #WriteStream to Gold table, using GOLD_CHECKPOINT and GOLD_DELTA, and named gold_stream, takes about 1.5 hours to run\n",
    "query_gold = silver_table.writeStream.format(\"delta\").outputMode(\"append\").option(\"checkpointLocation\",GOLD_CHECKPOINT).queryName(\"gold_stream\").start(GOLD_DELTA)\n"
   ]
  },
  {
   "cell_type": "code",
   "execution_count": 0,
   "metadata": {
    "application/vnd.databricks.v1+cell": {
     "cellMetadata": {
      "byteLimit": 2048000,
      "rowLimit": 10000
     },
     "inputWidgets": {},
     "nuid": "92c3e9c9-cf19-4cf0-a5fd-b8ddc49262f0",
     "showTitle": false,
     "title": ""
    }
   },
   "outputs": [],
   "source": [
    "#Logic to Stop Stream when complete\n",
    "stream_started = False\n",
    "last_progress= False\n",
    "watch_query = False\n",
    "while True:\n",
    "    time.sleep(30)\n",
    "    if not stream_started:\n",
    "        stream_started = wait_stream_start(spark, \"gold_stream\")\n",
    "    if stream_started and not last_progress:\n",
    "        if(query_gold.lastProgress is None):\n",
    "            last_progress = False\n",
    "        if(query_gold.lastProgress is not None):\n",
    "            last_progress = True\n",
    "    if stream_started and last_progress and not watch_query:\n",
    "        watch_query = watch(query_gold)\n",
    "\n",
    "    if stream_started and last_progress and watch_query:\n",
    "        query_gold.stop()\n",
    "        query_gold.awaitTermination()   \n",
    "        break\n",
    "    time.sleep(30)\n"
   ]
  },
  {
   "cell_type": "code",
   "execution_count": 0,
   "metadata": {
    "application/vnd.databricks.v1+cell": {
     "cellMetadata": {
      "byteLimit": 2048000,
      "rowLimit": 10000
     },
     "inputWidgets": {},
     "nuid": "9d39c33a-5b06-48d3-a0a5-a01e68bfb9aa",
     "showTitle": false,
     "title": ""
    }
   },
   "outputs": [],
   "source": [
    "#Read in DF and Display to Check\n",
    "gold_table = spark.read.format('delta').load(GOLD_DELTA)\n",
    "display(gold_table)"
   ]
  },
  {
   "cell_type": "markdown",
   "metadata": {
    "application/vnd.databricks.v1+cell": {
     "cellMetadata": {
      "byteLimit": 2048000,
      "rowLimit": 10000
     },
     "inputWidgets": {},
     "nuid": "0494d8b4-5a55-47fc-af12-47325f34a303",
     "showTitle": false,
     "title": ""
    }
   },
   "source": [
    "## 7.0 Capture the accuracy metrics from the gold table in MLflow\n",
    "Store the following in an MLflow experiment run:\n",
    "- Store the precision, recall, and F1-score as MLflow metrics\n",
    "- Store an image of the confusion matrix as an MLflow artifact\n",
    "- Store the mdoel name and the MLflow version that was used as an MLflow parameters\n",
    "- Store the version of the Delta Table (input-silver) as an MLflow parameter"
   ]
  },
  {
   "cell_type": "code",
   "execution_count": 0,
   "metadata": {
    "application/vnd.databricks.v1+cell": {
     "cellMetadata": {
      "byteLimit": 2048000,
      "rowLimit": 10000
     },
     "inputWidgets": {},
     "nuid": "3bb174ad-67e4-4b0a-be36-ff20a760ee8b",
     "showTitle": false,
     "title": ""
    }
   },
   "outputs": [],
   "source": [
    "with mlflow.start_run():\n",
    "    #Get the Multiclass Metrics\n",
    "    prediction_and_label = gold_table.select(col(\"predicted_sentiment_id\").cast(\"double\"), col(\"sentiment_id\").cast(\"double\"))\n",
    "    multi_metrics = MulticlassMetrics(prediction_and_label.rdd)\n",
    "\n",
    "    #Build confusion Matrix\n",
    "    conf_matrix = multi_metrics.confusionMatrix()\n",
    "    conf_matrix_array = conf_matrix.toArray()\n",
    "    plt.imshow(conf_matrix_array, cmap='Blues', interpolation='nearest')\n",
    "    for i in range(len(conf_matrix_array)):\n",
    "        for j in range(len(conf_matrix_array[i])):\n",
    "            plt.text(j, i, format(conf_matrix_array[i, j], '.2f'),\n",
    "                    horizontalalignment=\"center\",\n",
    "                    color=\"black\")\n",
    "\n",
    "    plt.title('Confusion Matrix')\n",
    "    plt.xlabel('Predicted')\n",
    "    plt.ylabel('Actual')\n",
    "    plt.colorbar()\n",
    "    plt.xticks(range(conf_matrix_array.shape[1]))\n",
    "    plt.yticks(range(conf_matrix_array.shape[0]))\n",
    "    plt.savefig(\"confusion_matrix.png\")\n",
    "\n",
    "    #Log the Parameters and Metrics\n",
    "    mlflow.log_artifact(\"confusion_matrix.png\")\n",
    "    mlflow.log_param(\"model_name\", MODEL_NAME)\n",
    "    mlflow.log_param(\"mlflow_version\", 1)\n",
    "    deltaTable = DeltaTable.forPath(spark, SILVER_DELTA)\n",
    "    history_df = deltaTable.history().select(\"version\").orderBy(\"version\", ascending=False)\n",
    "    version = history_df.collect()[0][0]\n",
    "    mlflow.log_param(\"delta_table_version\", version)\n",
    "    mlflow.log_metric('precision', multi_metrics.weightedPrecision)\n",
    "    mlflow.log_metric('recall', multi_metrics.weightedRecall)\n",
    "    mlflow.log_metric('FScore', multi_metrics.weightedFMeasure())\n",
    "\n",
    "    mlflow.end_run()\n",
    "\n"
   ]
  },
  {
   "cell_type": "markdown",
   "metadata": {
    "application/vnd.databricks.v1+cell": {
     "cellMetadata": {
      "byteLimit": 2048000,
      "rowLimit": 10000
     },
     "inputWidgets": {},
     "nuid": "81e0e2de-b872-4698-81cc-1669646c2183",
     "showTitle": false,
     "title": ""
    }
   },
   "source": [
    "## 8.0 Application Data Processing and Visualization\n",
    "- How many mentions are there in the gold data total?\n",
    "- Count the number of neutral, positive and negative tweets for each mention in new columns\n",
    "- Capture the total for each mention in a new column\n",
    "- Sort the mention count totals in descending order\n",
    "- Plot a bar chart of the top 20 mentions with positive sentiment (the people who are in favor)\n",
    "- Plot a bar chart of the top 20 mentions with negative sentiment (the people who are the vilians)\n",
    "\n",
    "You may want to use the \"Loop Application\" widget to control whether you repeateded display the latest plots while the data comes in from your streams before moving on to the next section and cleaning up your run.\n",
    "\n",
    "*note: A mention is a specific twitter user that has been \"mentioned\" in a tweet with an @user reference."
   ]
  },
  {
   "cell_type": "code",
   "execution_count": 0,
   "metadata": {
    "application/vnd.databricks.v1+cell": {
     "cellMetadata": {
      "byteLimit": 2048000,
      "rowLimit": 10000
     },
     "inputWidgets": {},
     "nuid": "8250667b-eaa5-48a1-90c7-bfe11e666e32",
     "showTitle": false,
     "title": ""
    }
   },
   "outputs": [],
   "source": [
    "#Total Mentions in Gold Data\n",
    "print(gold_table.count())\n",
    "\n",
    "#Total Distinct Mentions in Gold Data\n",
    "print(gold_table.select(\"mention\").distinct().count())"
   ]
  },
  {
   "cell_type": "code",
   "execution_count": 0,
   "metadata": {
    "application/vnd.databricks.v1+cell": {
     "cellMetadata": {
      "byteLimit": 2048000,
      "rowLimit": 10000
     },
     "inputWidgets": {},
     "nuid": "89b2914a-c543-46c1-b94b-475dfb44067e",
     "showTitle": false,
     "title": ""
    }
   },
   "outputs": [],
   "source": [
    "from pyspark.sql.functions import col, min,max\n",
    "#Find Oldest and Newest Timestamp for Each Mention\n",
    "application_data = gold_table.groupBy(\"mention\").agg(min(col(\"timestamp\")).alias(\"oldest_timestamp\"), max(col(\"timestamp\")).alias(\"newest_timestamp\")\n",
    ")"
   ]
  },
  {
   "cell_type": "code",
   "execution_count": 0,
   "metadata": {
    "application/vnd.databricks.v1+cell": {
     "cellMetadata": {
      "byteLimit": 2048000,
      "rowLimit": 10000
     },
     "inputWidgets": {},
     "nuid": "29a20d0f-2c92-4f5b-b5a3-a707dfb53ac7",
     "showTitle": false,
     "title": ""
    }
   },
   "outputs": [],
   "source": [
    "#Capture Number of Positive and Negative tweets for each Mention (No Neutral since already included them in Negative)\n",
    "aggregate = gold_table.groupBy(\"mention\", \"predicted_sentiment\").count().groupBy(\"mention\").pivot(\"predicted_sentiment\").agg({\"count\": \"sum\"}).fillna(0)\n",
    "#Capture Total Number of Tweets for Each Mention\n",
    "application_data = application_data.join(aggregate, \"mention\", \"left\")\n",
    "total_count = gold_table.groupBy(\"mention\").count().withColumnRenamed(\"count\",\"total\")\n",
    "application_data = application_data.join(total_count, \"mention\", \"left\")\n",
    "#Order Total Tweets by Descending Order\n",
    "application_data = application_data.orderBy(col('total').desc())\n",
    "application_data = application_data.withColumnRenamed(\"POS\", \"positive\")\n",
    "application_data = application_data.withColumnRenamed(\"NEG\", \"negative\")\n",
    "display(application_data)"
   ]
  },
  {
   "cell_type": "code",
   "execution_count": 0,
   "metadata": {
    "application/vnd.databricks.v1+cell": {
     "cellMetadata": {
      "byteLimit": 2048000,
      "rowLimit": 10000
     },
     "inputWidgets": {},
     "nuid": "c8f6e294-835a-48f4-8eb4-c587c956610c",
     "showTitle": false,
     "title": ""
    }
   },
   "outputs": [],
   "source": [
    "#Bar Graph of Top 20 Mentions with Positive Sentiment\n",
    "positive = application_data.orderBy(col('positive').desc())\n",
    "positive = positive.limit(20)\n",
    "positive = ps.DataFrame(positive)\n",
    "positive.plot.bar(x = \"mention\", y = \"positive\", title = \"Top 20 Mentions with Positive Sentiment\")"
   ]
  },
  {
   "cell_type": "code",
   "execution_count": 0,
   "metadata": {
    "application/vnd.databricks.v1+cell": {
     "cellMetadata": {
      "byteLimit": 2048000,
      "rowLimit": 10000
     },
     "inputWidgets": {},
     "nuid": "6ac393bd-1025-4f40-91e7-8f6ec3140d8e",
     "showTitle": false,
     "title": ""
    }
   },
   "outputs": [],
   "source": [
    "#Bar Graph of Top 20 Mentions with Negative Sentiment\n",
    "negative = application_data.orderBy(col('negative').desc())\n",
    "negative = negative.limit(20)\n",
    "negative = ps.DataFrame(negative)\n",
    "negative.plot.bar(x = \"mention\", y = \"negative\", title = \"Top 20 Mentions with Negative Sentiment\")\n"
   ]
  },
  {
   "cell_type": "markdown",
   "metadata": {
    "application/vnd.databricks.v1+cell": {
     "cellMetadata": {
      "byteLimit": 2048000,
      "rowLimit": 10000
     },
     "inputWidgets": {},
     "nuid": "5d5add3f-0c13-4d81-86d8-12cf3cfdd2c8",
     "showTitle": false,
     "title": ""
    }
   },
   "source": [
    "## 9.0 Clean up and completion of your pipeline\n",
    "- using the utilities what streams are running? If any.\n",
    "- Stop all active streams\n",
    "- print out the elapsed time of your notebook."
   ]
  },
  {
   "cell_type": "code",
   "execution_count": 0,
   "metadata": {
    "application/vnd.databricks.v1+cell": {
     "cellMetadata": {
      "byteLimit": 2048000,
      "rowLimit": 10000
     },
     "inputWidgets": {},
     "nuid": "0304e685-c26e-447d-b230-c37266f30003",
     "showTitle": false,
     "title": ""
    }
   },
   "outputs": [],
   "source": [
    "#print and stop streams\n",
    "for stream in spark.streams.active:\n",
    "    print(stream.name)\n",
    "stop_all_streams()\n"
   ]
  },
  {
   "cell_type": "code",
   "execution_count": 0,
   "metadata": {
    "application/vnd.databricks.v1+cell": {
     "cellMetadata": {
      "byteLimit": 2048000,
      "rowLimit": 10000
     },
     "inputWidgets": {},
     "nuid": "ea759fc8-1d78-4d6d-b571-e2e256448b76",
     "showTitle": false,
     "title": ""
    }
   },
   "outputs": [],
   "source": [
    "# Get the notebooks ending time note START_TIME was established in the include file when the notebook started.\n",
    "END_TIME = time.time()\n",
    "elapsed_time = END_TIME - START_TIME\n",
    "print(elapsed_time)"
   ]
  },
  {
   "cell_type": "markdown",
   "metadata": {
    "application/vnd.databricks.v1+cell": {
     "cellMetadata": {
      "byteLimit": 2048000,
      "rowLimit": 10000
     },
     "inputWidgets": {},
     "nuid": "b88fc0e5-f50c-4ed1-9480-16a4c8a44b30",
     "showTitle": false,
     "title": ""
    }
   },
   "source": [
    "## 10.0 How Optimized is your Spark Application (Grad Students Only)\n",
    "Graduate students (registered for the DSCC-402 section of the course) are required to do this section.  This is a written analysis using the Spark UI (link to screen shots) that support your analysis of your pipelines execution and what is driving its performance.\n",
    "Recall that Spark Optimization has 5 significant dimensions of considertation:\n",
    "- Spill: write to executor disk due to lack of memory\n",
    "- Skew: imbalance in partition size\n",
    "- Shuffle: network io moving data between executors (wide transforms)\n",
    "- Storage: inefficiency due to disk storage format (small files, location)\n",
    "- Serialization: distribution of code segments across the cluster\n",
    "\n",
    "Comment on each of the dimentions of performance and how your impelementation is or is not being affected.  Use specific information in the Spark UI to support your description.  \n",
    "\n",
    "Note: you can take sreenshots of the Spark UI from your project runs in databricks and then link to those pictures by storing them as a publicly accessible file on your cloud drive (google, one drive, etc.)\n",
    "\n",
    "References:\n",
    "- [Spark UI Reference Reference](https://spark.apache.org/docs/latest/web-ui.html#web-ui)\n",
    "- [Spark UI Simulator](https://www.databricks.training/spark-ui-simulator/index.html)"
   ]
  },
  {
   "cell_type": "markdown",
   "metadata": {
    "application/vnd.databricks.v1+cell": {
     "cellMetadata": {
      "byteLimit": 2048000,
      "rowLimit": 10000
     },
     "inputWidgets": {},
     "nuid": "a0a5707d-a5ca-4e87-9e74-3b13d00337b0",
     "showTitle": false,
     "title": ""
    }
   },
   "source": [
    "### ENTER YOUR MARKDOWN HERE"
   ]
  }
 ],
 "metadata": {
  "application/vnd.databricks.v1+notebook": {
   "dashboards": [],
   "language": "python",
   "notebookMetadata": {
    "mostRecentlyExecutedCommandWithImplicitDF": {
     "commandId": -1,
     "dataframes": [
      "_sqldf"
     ]
    },
    "pythonIndentUnit": 4,
    "widgetLayout": [
     {
      "breakBefore": false,
      "name": "clear_previous_run",
      "width": 203
     },
     {
      "breakBefore": false,
      "name": "stop_streams",
      "width": 203
     }
    ]
   },
   "notebookName": "Starter Streaming Tweet Sentiment - Spring 2024 Final Project",
   "widgets": {
    "clear_previous_run": {
     "currentValue": "Yes",
     "nuid": "11b43403-c70f-41ef-ab0e-41172583baaa",
     "typedWidgetInfo": null,
     "widgetInfo": {
      "widgetType": "dropdown",
      "defaultValue": "No",
      "label": null,
      "name": "clear_previous_run",
      "options": {
       "widgetType": "dropdown",
       "autoCreated": null,
       "choices": [
        "No",
        "Yes"
       ]
      }
     }
    },
    "optimize_tables": {
     "currentValue": "No",
     "nuid": "fe8c5274-05ae-474f-9709-3f04d19a4699",
     "typedWidgetInfo": null,
     "widgetInfo": {
      "widgetType": "dropdown",
      "defaultValue": "No",
      "label": null,
      "name": "optimize_tables",
      "options": {
       "widgetType": "dropdown",
       "autoCreated": null,
       "choices": [
        "No",
        "Yes"
       ]
      }
     }
    },
    "stop_streams": {
     "currentValue": "No",
     "nuid": "c663e604-890b-4965-a781-6ba0ded5924d",
     "typedWidgetInfo": null,
     "widgetInfo": {
      "widgetType": "dropdown",
      "defaultValue": "No",
      "label": null,
      "name": "stop_streams",
      "options": {
       "widgetType": "dropdown",
       "autoCreated": null,
       "choices": [
        "No",
        "Yes"
       ]
      }
     }
    }
   }
  }
 },
 "nbformat": 4,
 "nbformat_minor": 0
}
